{
 "cells": [
  {
   "cell_type": "code",
   "execution_count": 11,
   "metadata": {},
   "outputs": [
    {
     "name": "stdout",
     "output_type": "stream",
     "text": [
      "1lq8\n",
      "1t8t\n",
      "3oae\n",
      "1lxk\n",
      "1t8u\n",
      "2nwg\n",
      "3ogx\n",
      "1lxm\n",
      "1tb6\n",
      "2wco\n",
      "3ojv\n",
      "1n7q\n",
      "2wda\n",
      "3q7l\n",
      "1c82\n",
      "1n7r\n",
      "2wnu\n",
      "3qmk\n",
      "1dbo\n",
      "1nk1\n",
      "1xmn\n",
      "3ank\n",
      "3uan\n",
      "1e03\n",
      "1ofl\n",
      "3b9f\n",
      "3ud7\n",
      "1ofm\n",
      "1zba\n",
      "3c9e\n",
      "3ud8\n",
      "1fcv\n",
      "1ojm\n",
      "1hmu\n",
      "3dy0\n",
      "3ud9\n",
      "1ojn\n",
      "3e7j\n",
      "3uda\n",
      "1ojo\n",
      "2brs\n",
      "3e80\n",
      "4a2m\n",
      "1gmn\n",
      "1ojp\n",
      "2d8l\n",
      "3evj\n",
      "4ak2\n",
      "1hm2\n",
      "2fut\n",
      "3h7d\n",
      "4c4m\n",
      "1hm3\n",
      "1rwc\n",
      "2gd4\n",
      "3ilr\n",
      "4c4n\n",
      "1hmw\n",
      "1rwf\n",
      "2hyu\n",
      "3in9\n",
      "4dy0\n",
      "1rwg\n",
      "2hyv\n",
      "3ina\n",
      "1i8q\n",
      "2jcq\n",
      "3kcg\n",
      "1loh\n",
      "1sr5\n",
      "2jcr\n",
      "3mpk\n"
     ]
    }
   ],
   "source": [
    "import requests\n",
    "\n",
    "pdb_redo_template = \"https://pdb-redo.eu/db/{}\"\n",
    "\n",
    "pdb_redo_template_pdb = \"https://pdb-redo.eu/db/{}/{}_final.pdb\"\n",
    "\n",
    "test_set_codes_path = r\"C:\\Users\\Eric\\Documents\\GitHub\\GlycoTorch_Online\\test_set_codes.txt\"\n",
    "test_set_codes = open(test_set_codes_path, \"r\").read().split(\",\")\n",
    "test_set_codes = [x.strip().lower() for x in test_set_codes]\n",
    "\n",
    "for pdb_code in test_set_codes:\n",
    "    r = requests.get(pdb_redo_template.format(pdb_code))\n",
    "    \n",
    "    reflections = r.content.decode(\"utf-8\").__contains__(\"No reflection data\")\n",
    "    \n",
    "    if reflections == False:\n",
    "        print(pdb_code)\n",
    "        pdb = requests.get(pdb_redo_template_pdb.format(pdb_code, pdb_code))\n",
    "        \n",
    "        with open(r\"C:\\Users\\Eric\\Documents\\GitHub\\GlycoTorch_Online\\docking\\pdb_redo\\{}.pdb\".format(pdb_code), 'wb') as f:\n",
    "            f.write(pdb.content)\n",
    "    else:\n",
    "        test_set_codes.remove(pdb_code)\n"
   ]
  },
  {
   "cell_type": "code",
   "execution_count": 15,
   "metadata": {},
   "outputs": [
    {
     "ename": "AttributeError",
     "evalue": "module 'networkx' has no attribute 'connected_component_subgraphs'",
     "output_type": "error",
     "traceback": [
      "\u001b[1;31m---------------------------------------------------------------------------\u001b[0m",
      "\u001b[1;31mAttributeError\u001b[0m                            Traceback (most recent call last)",
      "\u001b[1;32m<ipython-input-15-196daed62505>\u001b[0m in \u001b[0;36m<module>\u001b[1;34m\u001b[0m\n\u001b[0;32m     11\u001b[0m \u001b[1;33m\u001b[0m\u001b[0m\n\u001b[0;32m     12\u001b[0m \u001b[1;32mfor\u001b[0m \u001b[0mpdb_code\u001b[0m \u001b[1;32min\u001b[0m \u001b[0mtest_set\u001b[0m\u001b[1;33m:\u001b[0m\u001b[1;33m\u001b[0m\u001b[1;33m\u001b[0m\u001b[0m\n\u001b[1;32m---> 13\u001b[1;33m     \u001b[0mp\u001b[0m \u001b[1;33m=\u001b[0m \u001b[0mProteinPDB\u001b[0m\u001b[1;33m(\u001b[0m\u001b[1;34mr\"C:\\Users\\Eric\\Documents\\GitHub\\GlycoTorch_Online\\docking\\pdb_redo\\{}\"\u001b[0m\u001b[1;33m.\u001b[0m\u001b[0mformat\u001b[0m\u001b[1;33m(\u001b[0m\u001b[0mpdb_code\u001b[0m\u001b[1;33m)\u001b[0m\u001b[1;33m)\u001b[0m\u001b[1;33m\u001b[0m\u001b[1;33m\u001b[0m\u001b[0m\n\u001b[0m\u001b[0;32m     14\u001b[0m     \u001b[0mp\u001b[0m\u001b[1;33m.\u001b[0m\u001b[0msaveLigands\u001b[0m\u001b[1;33m(\u001b[0m\u001b[0mpath\u001b[0m \u001b[1;33m=\u001b[0m \u001b[1;34mr\"C:\\Users\\Eric\\Documents\\GitHub\\GlycoTorch_Online\\docking\\ligand_pdb\"\u001b[0m\u001b[1;33m)\u001b[0m\u001b[1;33m\u001b[0m\u001b[1;33m\u001b[0m\u001b[0m\n\u001b[0;32m     15\u001b[0m \u001b[1;33m\u001b[0m\u001b[0m\n",
      "\u001b[1;32m~\\Documents\\GitHub\\GlycoTorch_Online\\Protein.py\u001b[0m in \u001b[0;36m__init__\u001b[1;34m(self, filename)\u001b[0m\n\u001b[0;32m     38\u001b[0m         \u001b[0mself\u001b[0m\u001b[1;33m.\u001b[0m\u001b[0mheteroatoms\u001b[0m \u001b[1;33m=\u001b[0m \u001b[1;33m[\u001b[0m\u001b[1;33m]\u001b[0m\u001b[1;33m\u001b[0m\u001b[1;33m\u001b[0m\u001b[0m\n\u001b[0;32m     39\u001b[0m         \u001b[0mself\u001b[0m\u001b[1;33m.\u001b[0m\u001b[0mDOI\u001b[0m \u001b[1;33m=\u001b[0m \u001b[1;34m\"\"\u001b[0m\u001b[1;33m\u001b[0m\u001b[1;33m\u001b[0m\u001b[0m\n\u001b[1;32m---> 40\u001b[1;33m         \u001b[0mself\u001b[0m\u001b[1;33m.\u001b[0m\u001b[0mligands\u001b[0m \u001b[1;33m=\u001b[0m \u001b[0mlist\u001b[0m\u001b[1;33m(\u001b[0m\u001b[0mnx\u001b[0m\u001b[1;33m.\u001b[0m\u001b[0mconnected_components\u001b[0m\u001b[1;33m(\u001b[0m\u001b[0mself\u001b[0m\u001b[1;33m.\u001b[0m\u001b[0mgraph\u001b[0m\u001b[1;33m)\u001b[0m\u001b[1;33m)\u001b[0m\u001b[1;33m\u001b[0m\u001b[1;33m\u001b[0m\u001b[0m\n\u001b[0m\u001b[0;32m     41\u001b[0m         \u001b[0mself\u001b[0m\u001b[1;33m.\u001b[0m\u001b[0mall_ligands_list\u001b[0m \u001b[1;33m=\u001b[0m \u001b[1;33m[\u001b[0m\u001b[1;33m]\u001b[0m\u001b[1;33m\u001b[0m\u001b[1;33m\u001b[0m\u001b[0m\n\u001b[0;32m     42\u001b[0m         \u001b[0mtemp\u001b[0m \u001b[1;33m=\u001b[0m \u001b[1;33m[\u001b[0m\u001b[1;33m]\u001b[0m\u001b[1;33m\u001b[0m\u001b[1;33m\u001b[0m\u001b[0m\n",
      "\u001b[1;31mAttributeError\u001b[0m: module 'networkx' has no attribute 'connected_component_subgraphs'"
     ]
    }
   ],
   "source": [
    "import sys\n",
    "import os \n",
    "\n",
    "test_set = os.listdir(r\"C:\\Users\\Eric\\Documents\\GitHub\\GlycoTorch_Online\\docking\\pdb_redo\")\n",
    "\n",
    "sys.path.insert(1, r'C:\\Users\\Eric\\Documents\\GitHub\\GlycoTorch_Online')\n",
    "\n",
    "from Carbohydrate import *\n",
    "\n",
    "from Protein import *\n",
    "\n",
    "for pdb_code in test_set:\n",
    "    p = ProteinPDB(r\"C:\\Users\\Eric\\Documents\\GitHub\\GlycoTorch_Online\\docking\\pdb_redo\\{}\".format(pdb_code))\n",
    "    p.saveLigands(path = r\"C:\\Users\\Eric\\Documents\\GitHub\\GlycoTorch_Online\\docking\\ligand_pdb\")\n",
    "    \n"
   ]
  },
  {
   "cell_type": "code",
   "execution_count": null,
   "metadata": {},
   "outputs": [],
   "source": []
  }
 ],
 "metadata": {
  "kernelspec": {
   "display_name": "Python 3",
   "language": "python",
   "name": "python3"
  },
  "language_info": {
   "codemirror_mode": {
    "name": "ipython",
    "version": 3
   },
   "file_extension": ".py",
   "mimetype": "text/x-python",
   "name": "python",
   "nbconvert_exporter": "python",
   "pygments_lexer": "ipython3",
   "version": "3.7.3"
  }
 },
 "nbformat": 4,
 "nbformat_minor": 4
}
